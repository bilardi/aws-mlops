{
 "cells": [
  {
   "cell_type": "code",
   "execution_count": null,
   "id": "53ad79d7-233c-4634-b456-64ece59ea97a",
   "metadata": {},
   "outputs": [],
   "source": [
    "#!pip install GitPython\n",
    "#!pip install sagemaker\n",
    "#!pip install s3fs\n",
    "#!pip install aws-mlops\n",
    "import os\n",
    "import sys\n",
    "import pandas as pd\n",
    "import config as config\n",
    "#sys.path.insert(1, os.getcwd() + '/..')\n",
    "from aws_mlops.data_storage import DataStorage\n",
    "from sklearn.model_selection import train_test_split"
   ]
  },
  {
   "cell_type": "code",
   "execution_count": null,
   "id": "9305e2b5-f92d-4b52-b4d3-1f0e60cd6fc3",
   "metadata": {},
   "outputs": [],
   "source": [
    "# object for data storage management\n",
    "studio = DataStorage(config.source_bucket, config.test_data_key)\n",
    "config_name = 'pretraining_input'"
   ]
  },
  {
   "cell_type": "code",
   "execution_count": null,
   "id": "f654785f-b9a0-49e1-8a0e-3bb3934d4c88",
   "metadata": {},
   "outputs": [],
   "source": [
    "# load dataframe after loading on s3\n",
    "df = studio.restore(config.raw_data_filename, f's3://{config.source_bucket}/{config.raw_data_key}')"
   ]
  },
  {
   "cell_type": "code",
   "execution_count": null,
   "id": "5adc842e-cd27-4c32-8bcb-4d5f80ed6abb",
   "metadata": {},
   "outputs": [],
   "source": [
    "# --> add your code for first split\n",
    "df.insert(0, 'id', range(883, 883 + len(df)))"
   ]
  },
  {
   "cell_type": "code",
   "execution_count": null,
   "id": "3deb2e81-5e31-45f9-97dd-891d5c2ccdec",
   "metadata": {},
   "outputs": [],
   "source": [
    "# prep data\n",
    "train, test, _, _ = train_test_split(df, df[config.target], test_size=config.test_size, random_state=0)"
   ]
  },
  {
   "cell_type": "code",
   "execution_count": null,
   "id": "51af15d9-de84-42cc-85c4-e32a5aa583e7",
   "metadata": {},
   "outputs": [],
   "source": [
    "# checkpoint / restore - sample\n",
    "studio.checkpoint(df)\n",
    "df = studio.restore()"
   ]
  },
  {
   "cell_type": "code",
   "execution_count": null,
   "id": "1a7d2712-d3d2-4144-9c6e-a1f813957706",
   "metadata": {},
   "outputs": [],
   "source": [
    "# --> add your code for second split\n",
    "train.drop('id', axis = 1, inplace = True)"
   ]
  },
  {
   "cell_type": "code",
   "execution_count": null,
   "id": "2731f34f-1b5a-45c8-99fd-3e4a96aa87aa",
   "metadata": {},
   "outputs": [],
   "source": [
    "# prep data\n",
    "final_train, validation, _, _ = train_test_split(train, train[config.target], test_size=config.validation_size, random_state=0)"
   ]
  },
  {
   "cell_type": "code",
   "execution_count": null,
   "id": "395e4ed2-af68-4978-96d5-977851db8a9a",
   "metadata": {},
   "outputs": [],
   "source": [
    "# output - columns names, target and identifier columns\n",
    "test = studio.save_test(test, [config.target, config.identifier])"
   ]
  },
  {
   "cell_type": "code",
   "execution_count": null,
   "id": "b2d621df-1755-4c8e-925c-6a7701101448",
   "metadata": {},
   "outputs": [],
   "source": [
    "# output - dataframes: train, validation, test\n",
    "output_dataframes = [final_train, validation, test]\n",
    "for output in getattr(config, config_name)['outputs']:\n",
    "    dataframe = output_dataframes.pop(0)\n",
    "    studio.save_on_s3(df, output['OutputName'], output['S3Output']['S3Uri'], header = False, index = False)\n",
    "    #studio.local_save(dataframe, output['S3Output']['LocalPath'], output['OutputName'], header = False, index = False)"
   ]
  }
 ],
 "metadata": {
  "kernelspec": {
   "display_name": "Python 3",
   "language": "python",
   "name": "python3"
  },
  "language_info": {
   "codemirror_mode": {
    "name": "ipython",
    "version": 3
   },
   "file_extension": ".py",
   "mimetype": "text/x-python",
   "name": "python",
   "nbconvert_exporter": "python",
   "pygments_lexer": "ipython3",
   "version": "3.9.2"
  }
 },
 "nbformat": 4,
 "nbformat_minor": 5
}
