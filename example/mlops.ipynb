{
 "cells": [
  {
   "cell_type": "code",
   "execution_count": null,
   "id": "0b1f5659-2a8d-49a1-b009-a5a56b54bb16",
   "metadata": {},
   "outputs": [],
   "source": [
    "!pip install GitPython\n",
    "!pip install sagemaker\n",
    "!pip install s3fs\n",
    "!pip install aws-mlops\n",
    "#!pip uninstall -y aws-mlops"
   ]
  },
  {
   "cell_type": "code",
   "execution_count": null,
   "id": "10719c7e-f0ce-41f2-ba4c-c96c74068306",
   "metadata": {},
   "outputs": [],
   "source": [
    "import os\n",
    "import sys\n",
    "#os.environ['KEY'] = 'aws-mlops/test/ee317d661bb0f13f5eda338d07221ed08496e186/2022-01-24-19-07-56'\n",
    "import config as config\n",
    "import definitions as definitions\n",
    "#sys.path.insert(1, os.getcwd() + '/..')\n",
    "from aws_mlops.mlops import MLOps\n",
    "from aws_mlops.data_storage import DataStorage\n",
    "print(config.environment, config.key)"
   ]
  },
  {
   "cell_type": "code",
   "execution_count": null,
   "id": "062b5a41-5064-4bbc-bb83-388961831419",
   "metadata": {},
   "outputs": [],
   "source": [
    "# initialization\n",
    "mo = MLOps(config)\n",
    "ds = DataStorage(config.source_bucket, config.test_data_key)"
   ]
  },
  {
   "cell_type": "code",
   "execution_count": null,
   "id": "2dd26cf7-5780-4536-9123-418e2dd0e952",
   "metadata": {},
   "outputs": [],
   "source": [
    "# create definition files\n",
    "mo.create_step_functions_definition_files(definitions)"
   ]
  },
  {
   "cell_type": "code",
   "execution_count": null,
   "id": "4239630d-fce9-4331-990e-9c6ce1fb706b",
   "metadata": {},
   "outputs": [],
   "source": [
    "# load data for pretraining\n",
    "df = ds.local_read('/home/jovyan/example/processing/raw_data', config.raw_data_filename)\n",
    "ds.save_on_s3(df, config.raw_data_filename, f's3://{config.source_bucket}/{config.repo_name}/{config.branch}/raw_data', header = True, index = False)"
   ]
  },
  {
   "cell_type": "code",
   "execution_count": null,
   "id": "216edc8f-6987-41d7-88e5-f1d4d11edae5",
   "metadata": {},
   "outputs": [],
   "source": [
    "# run only processing of pretraining\n",
    "mo.run_state_machine('pretraining')"
   ]
  },
  {
   "cell_type": "code",
   "execution_count": null,
   "id": "f27d4c20-f00b-43bc-9df3-137245a4d1a5",
   "metadata": {},
   "outputs": [],
   "source": [
    "# run only modeling and testing prediction with test data\n",
    "mo.run_state_machine('modeling')"
   ]
  },
  {
   "cell_type": "code",
   "execution_count": null,
   "id": "dd9ade5a-9854-4f23-8bf0-4090f89b3030",
   "metadata": {},
   "outputs": [],
   "source": [
    "# load data for preinference\n",
    "df = ds.local_read('/home/jovyan/example/processing/new_data', config.new_data_filename)\n",
    "ds.save_on_s3(df, config.new_data_filename, f's3://{config.source_bucket}/{config.repo_name}/{config.branch}/new_data', header = True, index = False)"
   ]
  },
  {
   "cell_type": "code",
   "execution_count": null,
   "id": "15e39817-9fe6-453a-9861-91fdb3d5ccd4",
   "metadata": {},
   "outputs": [],
   "source": [
    "# run only prediction with new test data\n",
    "mo.run_state_machine('prediction')"
   ]
  },
  {
   "cell_type": "code",
   "execution_count": null,
   "id": "db5e9563-b625-4207-b57b-e1adddad0efb",
   "metadata": {},
   "outputs": [],
   "source": [
    "# run all cycle: pretraining, modeling and testing prediction with test data\n",
    "mo.run_state_machine('mlops')"
   ]
  }
 ],
 "metadata": {
  "kernelspec": {
   "display_name": "Python 3 (ipykernel)",
   "language": "python",
   "name": "python3"
  },
  "language_info": {
   "codemirror_mode": {
    "name": "ipython",
    "version": 3
   },
   "file_extension": ".py",
   "mimetype": "text/x-python",
   "name": "python",
   "nbconvert_exporter": "python",
   "pygments_lexer": "ipython3",
   "version": "3.9.7"
  }
 },
 "nbformat": 4,
 "nbformat_minor": 5
}
