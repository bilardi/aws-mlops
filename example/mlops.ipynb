{
 "cells": [
  {
   "cell_type": "code",
   "execution_count": null,
   "id": "10719c7e-f0ce-41f2-ba4c-c96c74068306",
   "metadata": {},
   "outputs": [],
   "source": [
    "#!pip install GitPython\n",
    "#!pip install sagemaker\n",
    "#!pip install s3fs\n",
    "#!pip install aws-mlops\n",
    "#!pip uninstall -y aws-mlops\n",
    "import os\n",
    "import sys\n",
    "import config as config\n",
    "import definitions as definitions\n",
    "#sys.path.insert(1, os.getcwd() + '/..')\n",
    "from aws_mlops.mlops import MLOps"
   ]
  },
  {
   "cell_type": "code",
   "execution_count": null,
   "id": "062b5a41-5064-4bbc-bb83-388961831419",
   "metadata": {},
   "outputs": [],
   "source": [
    "# initialization\n",
    "mo = MLOps(config)"
   ]
  },
  {
   "cell_type": "code",
   "execution_count": null,
   "id": "2dd26cf7-5780-4536-9123-418e2dd0e952",
   "metadata": {},
   "outputs": [],
   "source": [
    "# create definition files\n",
    "mo.create_step_functions_definition_files(definitions)"
   ]
  },
  {
   "cell_type": "code",
   "execution_count": null,
   "id": "216edc8f-6987-41d7-88e5-f1d4d11edae5",
   "metadata": {},
   "outputs": [],
   "source": [
    "# run only processing of pretraining\n",
    "mo.run_state_machine('pretraining')"
   ]
  },
  {
   "cell_type": "code",
   "execution_count": null,
   "id": "f27d4c20-f00b-43bc-9df3-137245a4d1a5",
   "metadata": {},
   "outputs": [],
   "source": [
    "# run only modeling and testing prediction with test data\n",
    "mo.run_state_machine('modeling')"
   ]
  },
  {
   "cell_type": "code",
   "execution_count": null,
   "id": "15e39817-9fe6-453a-9861-91fdb3d5ccd4",
   "metadata": {},
   "outputs": [],
   "source": [
    "# run only prediction with new data\n",
    "mo.run_state_machine('prediction')"
   ]
  },
  {
   "cell_type": "code",
   "execution_count": null,
   "id": "db5e9563-b625-4207-b57b-e1adddad0efb",
   "metadata": {},
   "outputs": [],
   "source": [
    "# run all cycle: pretraining, modeling and testing prediction with test data\n",
    "mo.run_state_machine('mlops')"
   ]
  },
  {
   "cell_type": "code",
   "execution_count": null,
   "id": "0b1f5659-2a8d-49a1-b009-a5a56b54bb16",
   "metadata": {},
   "outputs": [],
   "source": []
  }
 ],
 "metadata": {
  "kernelspec": {
   "display_name": "Python 3",
   "language": "python",
   "name": "python3"
  },
  "language_info": {
   "codemirror_mode": {
    "name": "ipython",
    "version": 3
   },
   "file_extension": ".py",
   "mimetype": "text/x-python",
   "name": "python",
   "nbconvert_exporter": "python",
   "pygments_lexer": "ipython3",
   "version": "3.9.2"
  }
 },
 "nbformat": 4,
 "nbformat_minor": 5
}
