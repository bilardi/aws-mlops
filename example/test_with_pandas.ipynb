{
 "cells": [
  {
   "cell_type": "code",
   "execution_count": null,
   "id": "dfae6494-ad7d-4d9e-a2d2-e899b5fc561f",
   "metadata": {
    "tags": []
   },
   "outputs": [],
   "source": [
    "#!pip install GitPython\n",
    "#!pip install sagemaker\n",
    "#!pip install s3fs\n",
    "#!pip install aws-mlops\n",
    "import os\n",
    "import sys\n",
    "#sys.path.insert(1, os.getcwd() + '/..')\n",
    "import pandas as pd\n",
    "import config as config\n",
    "from aws_mlops.data_storage import DataStorage"
   ]
  },
  {
   "cell_type": "code",
   "execution_count": null,
   "id": "80465a4e-1ecf-4a8e-9d85-0c7e960f8d33",
   "metadata": {},
   "outputs": [],
   "source": [
    "# object for data storage management\n",
    "studio = DataStorage(config.source_bucket, config.test_data_key)\n",
    "config_name = 'testing_input'"
   ]
  },
  {
   "cell_type": "code",
   "execution_count": null,
   "id": "d9939c15-2be3-4f7a-b52d-67c46d793812",
   "metadata": {},
   "outputs": [],
   "source": [
    "# load dataframes\n",
    "[columns_names, target, identifier] = studio.restore_test([config.target, config.identifier])\n",
    "test = studio.restore(config.test_filename, config.test_path)\n",
    "score = studio.restore(config.prediction_filename, config.prediction_path)"
   ]
  },
  {
   "cell_type": "code",
   "execution_count": null,
   "id": "13c2d21a-f1cf-4008-bc7f-6d0525418d2e",
   "metadata": {},
   "outputs": [],
   "source": [
    "# join datasets\n",
    "df = pd.concat([identifier, target, score, test], axis=1)\n",
    "df.columns = [config.identifier, config.target, config.score] + list(columns_names[0])"
   ]
  },
  {
   "cell_type": "code",
   "execution_count": null,
   "id": "333c473c-58e6-4c35-a278-e4bfbaa662e0",
   "metadata": {},
   "outputs": [],
   "source": [
    "# prediction datasets\n",
    "prediction = df[[config.identifier, config.score]]"
   ]
  },
  {
   "cell_type": "code",
   "execution_count": null,
   "id": "667dadb6-28c1-45b7-aa59-5fc299edb806",
   "metadata": {},
   "outputs": [],
   "source": [
    "# report datasets\n",
    "report = pd.DataFrame({\n",
    "    'Mean squared error': [metrics.mean_squared_error(df[config.target], df[config.score])],\n",
    "    'Mean absolute error': [metrics.mean_absolute_error(df[config.target], df[config.score])]\n",
    "})"
   ]
  },
  {
   "cell_type": "code",
   "execution_count": null,
   "id": "d3e570d2-362b-4395-9283-0f84f58f88bb",
   "metadata": {},
   "outputs": [],
   "source": [
    "# output - dataframes: prediction and report\n",
    "output_dataframes = [prediction, report]\n",
    "for output in getattr(config, config_name)['outputs']:\n",
    "    dataframe = output_dataframes.pop(0)\n",
    "    ds.local_save(dataframe, output['S3Output']['LocalPath'], output['OutputName'], header = True, index = False)"
   ]
  }
 ],
 "metadata": {
  "kernelspec": {
   "display_name": "Python 3",
   "language": "python",
   "name": "python3"
  },
  "language_info": {
   "codemirror_mode": {
    "name": "ipython",
    "version": 3
   },
   "file_extension": ".py",
   "mimetype": "text/x-python",
   "name": "python",
   "nbconvert_exporter": "python",
   "pygments_lexer": "ipython3",
   "version": "3.9.2"
  }
 },
 "nbformat": 4,
 "nbformat_minor": 5
}
