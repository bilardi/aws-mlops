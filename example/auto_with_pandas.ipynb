{
 "cells": [
  {
   "cell_type": "code",
   "execution_count": null,
   "id": "a82160b9-3481-4246-a839-10cd4ea3cec6",
   "metadata": {},
   "outputs": [],
   "source": [
    "#!pip install GitPython\n",
    "#!pip install sagemaker\n",
    "#!pip install s3fs\n",
    "#!pip install aws-mlops\n",
    "import os\n",
    "import sys\n",
    "import pandas as pd\n",
    "import config as config\n",
    "sys.path.insert(1, os.getcwd() + '/..')\n",
    "from aws_mlops.data_storage import DataStorage\n",
    "from sklearn.model_selection import train_test_split"
   ]
  },
  {
   "cell_type": "code",
   "execution_count": null,
   "id": "81ecac6d-1bd4-45a2-a71a-e9f3f36dd256",
   "metadata": {},
   "outputs": [],
   "source": [
    "# object for data storage management\n",
    "studio = DataStorage(config.source_bucket, config.test_data_key)\n",
    "config_name = 'auto_input'"
   ]
  },
  {
   "cell_type": "code",
   "execution_count": null,
   "id": "609fb554-3c77-47dc-bf95-5f421baecc0d",
   "metadata": {},
   "outputs": [],
   "source": [
    "# load dataframe the first time\n",
    "# docs: https://archive.ics.uci.edu/ml/machine-learning-databases/wine-quality/winequality.names\n",
    "#df = pd.read_csv('https://archive.ics.uci.edu/ml/machine-learning-databases/wine-quality/winequality-red.csv', sep=';')\n",
    "#studio.checkpoint(df, config.raw_data_filename, f's3://{config.source_bucket}/{config.raw_data_key}')\n",
    "#df = pd.read_csv('https://archive.ics.uci.edu/ml/machine-learning-databases/wine-quality/winequality-white.csv', sep=';')\n",
    "#studio.checkpoint(df, config.new_data_filename, f's3://{config.source_bucket}/{config.new_data_key}')\n",
    "\n",
    "# load dataframe after loading on s3\n",
    "df = studio.restore(config.raw_data_filename, f's3://{config.source_bucket}/{config.raw_data_key}')"
   ]
  },
  {
   "cell_type": "code",
   "execution_count": null,
   "id": "31358b03-10ec-47a5-8012-20b22c112a7c",
   "metadata": {},
   "outputs": [],
   "source": [
    "# prep data: it is indifferent the target column position\n",
    "df.insert(0, 'id', range(883, 883 + len(df)))\n",
    "train, test, _, _ = train_test_split(df, df[config.target], test_size=config.test_size, random_state=0)\n",
    "train.drop('id', axis = 1, inplace = True)"
   ]
  },
  {
   "cell_type": "code",
   "execution_count": null,
   "id": "894fb46f-0003-4c8a-9982-ee9b16c80014",
   "metadata": {},
   "outputs": [],
   "source": [
    "# output - columns names, target and identifier columns\n",
    "test = studio.save_test(test, [config.target, config.identifier])"
   ]
  },
  {
   "cell_type": "code",
   "execution_count": null,
   "id": "f0d93901-6f26-466d-aaed-69204702179a",
   "metadata": {},
   "outputs": [],
   "source": [
    "# saving dataframes\n",
    "output = getattr(config, config_name)['outputs'][0]\n",
    "# train with header\n",
    "studio.save_on_s3(train, output['OutputName'], output['S3Output']['S3Uri'], header = True, index = False)\n",
    "#studio.local_save(train, output['S3Output']['LocalPath'], output['OutputName'], header = True, index = False)\n",
    "output = getattr(config, config_name)['outputs'][1]\n",
    "# test without header\n",
    "studio.save_on_s3(test, output['OutputName'], output['S3Output']['S3Uri'], header = False, index = False)\n",
    "#studio.local_save(test, output['S3Output']['LocalPath'], output['OutputName'], header = False, index = False)"
   ]
  }
 ],
 "metadata": {
  "kernelspec": {
   "display_name": "Python 3",
   "language": "python",
   "name": "python3"
  },
  "language_info": {
   "codemirror_mode": {
    "name": "ipython",
    "version": 3
   },
   "file_extension": ".py",
   "mimetype": "text/x-python",
   "name": "python",
   "nbconvert_exporter": "python",
   "pygments_lexer": "ipython3",
   "version": "3.9.2"
  }
 },
 "nbformat": 4,
 "nbformat_minor": 5
}
